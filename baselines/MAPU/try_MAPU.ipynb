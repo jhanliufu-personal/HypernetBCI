{
 "cells": [
  {
   "cell_type": "code",
   "execution_count": 22,
   "metadata": {},
   "outputs": [],
   "source": [
    "import sys\n",
    "import os\n",
    "import torch\n",
    "from torch.utils.data import DataLoader\n",
    "from braindecode.datautil import load_concat_dataset"
   ]
  },
  {
   "cell_type": "code",
   "execution_count": 50,
   "metadata": {},
   "outputs": [],
   "source": [
    "dir_current = os.getcwd()\n",
    "dir_repo = os.path.dirname(dir_current)\n",
    "# sys.path.append(dir_current)\n",
    "sys.path.append(dir_repo)\n",
    "\n",
    "from models import masking, myTemporal_Imputer, ShallowFBCSPFeatureExtractor\n",
    "from loss import CrossEntropyLabelSmooth"
   ]
  },
  {
   "cell_type": "code",
   "execution_count": 11,
   "metadata": {},
   "outputs": [
    {
     "name": "stdout",
     "output_type": "stream",
     "text": [
      "Preprocessed dataset exists\n",
      "Reading 0 ... 3347499  =      0.000 ...  6694.998 secs...\n",
      "Reading 0 ... 609499  =      0.000 ...  1218.998 secs...\n",
      "Preprocessed dataset loaded\n"
     ]
    }
   ],
   "source": [
    "dir_preprocessed = os.path.join(dir_repo, 'data', 'Schirrmeister2017_preprocessed')\n",
    "\n",
    "subject_id = 3\n",
    "subject_ids_lst = [subject_id, ]\n",
    "# If a preprocessed dataset exists\n",
    "if os.path.exists(dir_preprocessed) and os.listdir(dir_preprocessed):\n",
    "    print('Preprocessed dataset exists')\n",
    "    windows_dataset = load_concat_dataset(\n",
    "        path = dir_preprocessed,\n",
    "        preload = True,\n",
    "        ids_to_load = list(range(2 * (subject_ids_lst[0] - 1), 2 * subject_ids_lst[-1])),\n",
    "        target_name = None,\n",
    "    )\n",
    "    sfreq = windows_dataset.datasets[0].raw.info['sfreq']\n",
    "    print('Preprocessed dataset loaded')"
   ]
  },
  {
   "cell_type": "code",
   "execution_count": 94,
   "metadata": {},
   "outputs": [
    {
     "name": "stderr",
     "output_type": "stream",
     "text": [
      "c:\\Users\\mengz\\anaconda3\\envs\\hyperBCI\\Lib\\site-packages\\braindecode\\models\\base.py:23: UserWarning: ShallowFBCSPNet: 'input_window_samples' is depreciated. Use 'n_times' instead.\n",
      "  warnings.warn(\n",
      "c:\\Users\\mengz\\anaconda3\\envs\\hyperBCI\\Lib\\site-packages\\braindecode\\models\\base.py:180: UserWarning: LogSoftmax final layer will be removed! Please adjust your loss function accordingly (e.g. CrossEntropyLoss)!\n",
      "  warnings.warn(\"LogSoftmax final layer will be removed! \" +\n"
     ]
    }
   ],
   "source": [
    "splitted = windows_dataset.split('run')\n",
    "pretrain_set = splitted['0train']  \n",
    "valid_set = splitted['1test'] \n",
    "\n",
    "batch_size = 32\n",
    "pretrain_loader = DataLoader(pretrain_set, batch_size=batch_size, shuffle=True)\n",
    "test_loader = DataLoader(valid_set, batch_size=batch_size)\n",
    "\n",
    "data_dimension = 128\n",
    "num_classes = 4\n",
    "sample_shape = torch.Size([data_dimension, 2250])\n",
    "feature_extractor = ShallowFBCSPFeatureExtractor(sample_shape, 'drop', num_classes)\n",
    "feature_dimension = 40\n",
    "temporal_verifier = myTemporal_Imputer(feature_dimension, feature_dimension)\n",
    "\n",
    "# losses\n",
    "mse_loss = torch.nn.MSELoss()\n",
    "cross_entropy = CrossEntropyLabelSmooth(4, 'cpu', epsilon=0.1)"
   ]
  },
  {
   "cell_type": "code",
   "execution_count": 100,
   "metadata": {},
   "outputs": [
    {
     "data": {
      "text/plain": [
       "{'0train': <braindecode.datasets.base.BaseConcatDataset at 0x1a4a9a9d390>,\n",
       " '1test': <braindecode.datasets.base.BaseConcatDataset at 0x1a4a9a9cb90>}"
      ]
     },
     "execution_count": 100,
     "metadata": {},
     "output_type": "execute_result"
    }
   ],
   "source": [
    "windows_dataset.split('run')"
   ]
  },
  {
   "cell_type": "code",
   "execution_count": 107,
   "metadata": {},
   "outputs": [
    {
     "name": "stdout",
     "output_type": "stream",
     "text": [
      "0\n",
      "torch.Size([32, 40, 144])\n",
      "torch.Size([32, 144, 40])\n",
      "torch.Size([32, 144, 40])\n",
      "torch.Size([32, 40, 144])\n",
      "tensor(11.6131, grad_fn=<MseLossBackward0>)\n"
     ]
    }
   ],
   "source": [
    "for step, (src_x, src_y, _) in enumerate(pretrain_loader):\n",
    "    print(step)\n",
    "    src_features, src_prediction = feature_extractor(src_x)\n",
    "    src_features = src_features.squeeze(-1)\n",
    "    # print(src_features.shape)\n",
    "\n",
    "    masked_x, mask = masking(src_x, num_splits=10, num_masked=2)\n",
    "    # print(masked_x.shape)\n",
    "    masked_features, masked_prediction = feature_extractor(masked_x)\n",
    "    masked_features = masked_features.squeeze(-1)\n",
    "    # print(masked_features.shape)\n",
    "    tov_predictions = temporal_verifier(masked_features.detach())\n",
    "    # print(tov_predictions.shape)\n",
    "    tov_loss = mse_loss(tov_predictions, src_features)\n",
    "    print(tov_loss)\n",
    "    # # # print(src_y)\n",
    "    break"
   ]
  },
  {
   "cell_type": "code",
   "execution_count": 106,
   "metadata": {},
   "outputs": [
    {
     "data": {
      "text/plain": [
       "ShallowFBCSPFeatureExtractor(\n",
       "  (model): ShallowFBCSPNet(\n",
       "    (ensuredims): Ensure4d()\n",
       "    (dimshuffle): Rearrange('batch C T 1 -> batch 1 T C')\n",
       "    (conv_time_spat): CombinedConv(\n",
       "      (conv_time): Conv2d(1, 40, kernel_size=(25, 1), stride=(1, 1))\n",
       "      (conv_spat): Conv2d(40, 40, kernel_size=(1, 128), stride=(1, 1), bias=False)\n",
       "    )\n",
       "    (bnorm): BatchNorm2d(40, eps=1e-05, momentum=0.1, affine=True, track_running_stats=True)\n",
       "    (conv_nonlin_exp): Expression(expression=square) \n",
       "    (pool): AvgPool2d(kernel_size=(75, 1), stride=(15, 1), padding=0)\n",
       "    (pool_nonlin_exp): Expression(expression=safe_log) \n",
       "    (drop): Dropout(p=0.5, inplace=False)\n",
       "    (final_layer): Sequential(\n",
       "      (conv_classifier): Conv2d(40, 4, kernel_size=(144, 1), stride=(1, 1))\n",
       "      (logsoftmax): LogSoftmax(dim=1)\n",
       "      (squeeze): Expression(expression=squeeze_final_output) \n",
       "    )\n",
       "  )\n",
       ")"
      ]
     },
     "execution_count": 106,
     "metadata": {},
     "output_type": "execute_result"
    }
   ],
   "source": [
    "feature_extractor"
   ]
  },
  {
   "cell_type": "code",
   "execution_count": null,
   "metadata": {},
   "outputs": [],
   "source": []
  }
 ],
 "metadata": {
  "kernelspec": {
   "display_name": "hyperBCI",
   "language": "python",
   "name": "python3"
  },
  "language_info": {
   "codemirror_mode": {
    "name": "ipython",
    "version": 3
   },
   "file_extension": ".py",
   "mimetype": "text/x-python",
   "name": "python",
   "nbconvert_exporter": "python",
   "pygments_lexer": "ipython3",
   "version": "3.11.8"
  }
 },
 "nbformat": 4,
 "nbformat_minor": 2
}
